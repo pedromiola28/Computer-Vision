{
  "nbformat": 4,
  "nbformat_minor": 0,
  "metadata": {
    "colab": {
      "provenance": [],
      "include_colab_link": true
    },
    "kernelspec": {
      "display_name": "Python 3",
      "name": "python3"
    },
    "language_info": {
      "name": "python"
    }
  },
  "cells": [
    {
      "cell_type": "markdown",
      "metadata": {
        "id": "view-in-github",
        "colab_type": "text"
      },
      "source": [
        "<a href=\"https://colab.research.google.com/github/pedromiola28/Computer-Vision/blob/main/Image_Augmentation.ipynb\" target=\"_parent\"><img src=\"https://colab.research.google.com/assets/colab-badge.svg\" alt=\"Open In Colab\"/></a>"
      ]
    },
    {
      "cell_type": "markdown",
      "source": [
        "This code is useful for Image Data Augmentation. It does that by flipping and changing the contrast of the images. \n",
        "\n",
        "The labels must be flipped also, but not have their contrast changed because this would affect the classes. "
      ],
      "metadata": {
        "id": "znyxOLJkG2U5"
      }
    },
    {
      "cell_type": "code",
      "metadata": {
        "colab": {
          "base_uri": "https://localhost:8080/"
        },
        "id": "aUETg7plm-et",
        "outputId": "03e30a25-3816-49e1-acd9-4759333d6680"
      },
      "source": [
        "from PIL import Image, ImageOps, ImageEnhance\n",
        "from google.colab import drive\n",
        "import os\n",
        "drive.mount('/content/drive')"
      ],
      "execution_count": null,
      "outputs": [
        {
          "output_type": "stream",
          "name": "stdout",
          "text": [
            "Drive already mounted at /content/drive; to attempt to forcibly remount, call drive.mount(\"/content/drive\", force_remount=True).\n"
          ]
        }
      ]
    },
    {
      "cell_type": "markdown",
      "source": [
        "Be sure to insert the right path of your image folder!"
      ],
      "metadata": {
        "id": "7igAHii8HqAJ"
      }
    },
    {
      "cell_type": "code",
      "metadata": {
        "id": "v9Zz2WZXngRh"
      },
      "source": [
        "path = r'/content/drive/My Drive/Images/'\n",
        "size = len(os.listdir(path))"
      ],
      "execution_count": null,
      "outputs": []
    },
    {
      "cell_type": "markdown",
      "source": [
        "The f's are the levels of contrast. Be sure to know until what contrast value the change is not harmful to your images!"
      ],
      "metadata": {
        "id": "q99vHRvPIOSg"
      }
    },
    {
      "cell_type": "code",
      "metadata": {
        "id": "-mmZ6y2RnqLA"
      },
      "source": [
        "f1 = 0.8 #20% less contrast\n",
        "f2 = 0.9 #10% less contrast\n",
        "f3 = 1.1 #10% more contrast\n",
        "f4 = 1.2 #20% more contrast\n",
        "for i in range(0, size):\n",
        "  im = Image.open(path + os.listdir(path)[i])\n",
        "  im_mirror = ImageOps.mirror(im)\n",
        "  enhancer1, enhancer2  = ImageEnhance.Contrast(im), ImageEnhance.Contrast(im_mirror) # Flip images horizontally\n",
        "  im_out1, im_out2, im_out3, im_out4  = enhancer1.enhance(f1), enhancer1.enhance(f2), enhancer2.enhance(f1), enhancer2.enhance(f2) # Enhancing contrast\n",
        "  im_out5, im_out6, im_out7, im_out8 = enhancer1.enhance(f3), enhancer1.enhance(f4), enhancer2.enhance(f3), enhancer2.enhance(f4) # Enhancing contrast\n",
        "  im_mirror.save(path +  'flip' + os.listdir(path)[i], quality=100) #Saving Images\n",
        "  im_out1.save(path +  'f1' + os.listdir(path)[i], quality=100)\n",
        "  im_out2.save(path +  'f2' + os.listdir(path)[i], quality=100)\n",
        "  im_out3.save(path +  'f1_flip' + os.listdir(path)[i], quality=100)\n",
        "  im_out4.save(path +  'f2_flip' + os.listdir(path)[i], quality=100)\n",
        "  im_out5.save(path +  'f3' + os.listdir(path)[i], quality=100)\n",
        "  im_out6.save(path +  'f4' + os.listdir(path)[i], quality=100)\n",
        "  im_out7.save(path +  'f3_flip' + os.listdir(path)[i], quality=100)\n",
        "  im_out8.save(path +  'f4_flip' + os.listdir(path)[i], quality=100)"
      ],
      "execution_count": null,
      "outputs": []
    }
  ]
}